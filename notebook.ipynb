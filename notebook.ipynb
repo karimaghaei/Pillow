{
 "cells": [
  {
   "cell_type": "code",
   "metadata": {},
   "source": [
    "!pip install Pillow"
   ],
   "execution_count": null,
   "outputs": []
  },
  {
   "cell_type": "code",
   "metadata": {},
   "source": [
    "from PIL import Image, ImageDraw, ImageFont\n",
    "\n",
    "image = Image.open(\"sample.jpg\")\n",
    "draw = ImageDraw.Draw(image)\n",
    "text = \"سلام Vahid!\"\n",
    "\n",
    "try:\n",
    "    font = ImageFont.truetype(\"arial.ttf\", size=40)\n",
    "except:\n",
    "    font = ImageFont.load_default()\n",
    "\n",
    "position = (50, 50)\n",
    "draw.text(position, text, fill=\"red\", font=font)\n",
    "\n",
    "image.save(\"output.jpg\")\n",
    "image.show()"
   ],
   "execution_count": null,
   "outputs": []
  }
 ],
 "metadata": {
  "kernelspec": {
   "display_name": "Python 3",
   "language": "python",
   "name": "python3"
  },
  "language_info": {
   "name": "python"
  }
 },
 "nbformat": 4,
 "nbformat_minor": 2
}